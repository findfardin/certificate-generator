{
 "cells": [
  {
   "cell_type": "raw",
   "metadata": {},
   "source": [
    "1.Import certificate template, excel file, font file to jupyter homepage\n",
    "2. Create a folder named certificate\n",
    "3. Link your excel, font, Download path and certificate template files\n",
    "4. Click cell and rull all.\n",
    "5. Congratulations! The job has done(It will take time depends on your Name list) "
   ]
  },
  {
   "cell_type": "code",
   "execution_count": 1,
   "metadata": {},
   "outputs": [],
   "source": [
    "#Nothing to change here\n",
    "from PIL import Image\n",
    "from PIL import ImageFont\n",
    "import numpy as np\n",
    "from PIL import ImageDraw \n",
    "import pandas as pd\n",
    "import numpy as np\n",
    "import os.path"
   ]
  },
  {
   "cell_type": "code",
   "execution_count": 2,
   "metadata": {},
   "outputs": [],
   "source": [
    "names=pd.read_excel('example.xlsx') # Insert Excel sheet\n",
    "df=pd.DataFrame(names)\n",
    "nameDf=df['Name']\n",
    "totalNames=df['Name'].count()\n",
    "save_path='D:/example/' # Download path"
   ]
  },
  {
   "cell_type": "code",
   "execution_count": 8,
   "metadata": {},
   "outputs": [
    {
     "name": "stdout",
     "output_type": "stream",
     "text": [
      "Congratulations! The job has done\n"
     ]
    }
   ],
   "source": [
    "for i in range(0,totalNames):\n",
    "    fileName=nameDf[i]\n",
    "    img = Image.open(example.png\") #certificate template\n",
    "    draw = ImageDraw.Draw(img)\n",
    "    font = ImageFont.truetype(\"Times New Roman 400.ttf\", 70) # font file\n",
    "    draw.text((168,467),fileName.upper(),(0,0,0),font=font)\n",
    "    completeName = os.path.join(save_path, fileName.upper()+\".png\")\n",
    "    img.save(completeName)\n",
    "print(\"Congratulations! The job has done\")"
   ]
  },
  {
   "cell_type": "code",
   "execution_count": null,
   "metadata": {},
   "outputs": [],
   "source": []
  }
 ],
 "metadata": {
  "kernelspec": {
   "display_name": "Python 3",
   "language": "python",
   "name": "python3"
  },
  "language_info": {
   "codemirror_mode": {
    "name": "ipython",
    "version": 3
   },
   "file_extension": ".py",
   "mimetype": "text/x-python",
   "name": "python",
   "nbconvert_exporter": "python",
   "pygments_lexer": "ipython3",
   "version": "3.7.6"
  }
 },
 "nbformat": 4,
 "nbformat_minor": 4
}
